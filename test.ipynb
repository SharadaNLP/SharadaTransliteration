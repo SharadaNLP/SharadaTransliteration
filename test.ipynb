{
 "cells": [
  {
   "cell_type": "code",
   "execution_count": 1,
   "metadata": {},
   "outputs": [],
   "source": [
    "from mapping import map"
   ]
  },
  {
   "cell_type": "code",
   "execution_count": 3,
   "metadata": {},
   "outputs": [],
   "source": [
    "def transliterate_to_devanagari(text):\n",
    "    sharada_text = \"\"\n",
    "    for char in text:\n",
    "        if char in map:\n",
    "            sharada_text += map[char]\n",
    "        else:\n",
    "            sharada_text += char\n",
    "    return sharada_text"
   ]
  },
  {
   "cell_type": "code",
   "execution_count": 5,
   "metadata": {},
   "outputs": [],
   "source": [
    "dts_dict = {value: key for key, value in map.items()}"
   ]
  },
  {
   "cell_type": "code",
   "execution_count": 6,
   "metadata": {},
   "outputs": [],
   "source": [
    "def transliterate_to_sharada(text):\n",
    "    sharada_text = \"\"\n",
    "    for char in text:\n",
    "        if char in dts_dict:\n",
    "            sharada_text += dts_dict[char]\n",
    "        else:\n",
    "            sharada_text += char\n",
    "    return sharada_text"
   ]
  },
  {
   "cell_type": "code",
   "execution_count": 8,
   "metadata": {},
   "outputs": [],
   "source": [
    "import re\n",
    "string = '''ॐ सह नाववतु ।\n",
    "सह नौ भुनक्तु ।\n",
    "सह वीर्यं करवावहै ।\n",
    "तेजस्वि नावधीतमस्तु मा विद्विषावहै ।\n",
    "ॐ शान्तिः शान्तिः शान्तिः ॥'''\n",
    "string = str(string)"
   ]
  },
  {
   "cell_type": "code",
   "execution_count": 9,
   "metadata": {},
   "outputs": [
    {
     "name": "stdout",
     "output_type": "stream",
     "text": [
      "𑇄 𑆱𑆲 𑆤𑆳𑆮𑆮𑆠𑆶 𑇅\n",
      "𑆱𑆲 𑆤𑆿 𑆨𑆶𑆤𑆑𑇀𑆠𑆶 𑇅\n",
      "𑆱𑆲 𑆮𑆵𑆫𑇀𑆪𑆁 𑆑𑆫𑆮𑆳𑆮𑆲𑆽 𑇅\n",
      "𑆠𑆼𑆘𑆱𑇀𑆮𑆴 𑆤𑆳𑆮𑆣𑆵𑆠𑆩𑆱𑇀𑆠𑆶 𑆩𑆳 𑆮𑆴𑆢𑇀𑆮𑆴𑆰𑆳𑆮𑆲𑆽 𑇅\n",
      "𑇄 𑆯𑆳𑆤𑇀𑆠𑆴𑆂 𑆯𑆳𑆤𑇀𑆠𑆴𑆂 𑆯𑆳𑆤𑇀𑆠𑆴𑆂 𑇆\n"
     ]
    }
   ],
   "source": [
    "print(transliterate_to_sharada(string))"
   ]
  },
  {
   "cell_type": "code",
   "execution_count": 14,
   "metadata": {},
   "outputs": [
    {
     "name": "stderr",
     "output_type": "stream",
     "text": [
      "'wget' is not recognized as an internal or external command,\n",
      "operable program or batch file.\n"
     ]
    }
   ],
   "source": [
    "!wget https://raw.githubusercontent.com/tesseract-ocr/langdata/main/san/san.wordlist"
   ]
  },
  {
   "cell_type": "code",
   "execution_count": 19,
   "metadata": {},
   "outputs": [],
   "source": [
    "with open(\"san.wordlist\", \"r\" , encoding='utf-8') as f:\n",
    "    lines = f.readlines()"
   ]
  },
  {
   "cell_type": "code",
   "execution_count": 23,
   "metadata": {},
   "outputs": [],
   "source": [
    "sha = []"
   ]
  },
  {
   "cell_type": "code",
   "execution_count": 24,
   "metadata": {},
   "outputs": [],
   "source": [
    "for i in lines:\n",
    "    y = transliterate_to_sharada(i)\n",
    "    sha.append(y)\n"
   ]
  },
  {
   "cell_type": "code",
   "execution_count": 26,
   "metadata": {},
   "outputs": [],
   "source": [
    "with open(\"sha.wordlist\", \"w\" , encoding='utf-8') as f:\n",
    "    lines = f.writelines(sha)"
   ]
  },
  {
   "cell_type": "code",
   "execution_count": null,
   "metadata": {},
   "outputs": [],
   "source": []
  }
 ],
 "metadata": {
  "kernelspec": {
   "display_name": "base",
   "language": "python",
   "name": "python3"
  },
  "language_info": {
   "codemirror_mode": {
    "name": "ipython",
    "version": 3
   },
   "file_extension": ".py",
   "mimetype": "text/x-python",
   "name": "python",
   "nbconvert_exporter": "python",
   "pygments_lexer": "ipython3",
   "version": "3.10.9"
  },
  "orig_nbformat": 4
 },
 "nbformat": 4,
 "nbformat_minor": 2
}
